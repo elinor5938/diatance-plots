{
 "cells": [
  {
   "cell_type": "code",
   "execution_count": 2,
   "id": "c84af334",
   "metadata": {},
   "outputs": [],
   "source": [
    "########################libraries #############################################\n",
    "import numpy as np\n",
    "import math\n",
    "import pandas as pd\n",
    "import random\n",
    "import matplotlib.pyplot as plt\n",
    "#import seaborn as sns\n",
    "import random\n",
    "import sys\n",
    "import matplotlib\n",
    "import matplotlib.pyplot as plt\n",
    "from matplotlib.collections import LineCollection\n",
    "from matplotlib.colors import ListedColormap, BoundaryNorm\n",
    "import os\n",
    "import seaborn as sns\n",
    "from matplotlib import ticker\n",
    "from matplotlib.ticker import MaxNLocator\n",
    "import scipy\n",
    "from random import sample\n",
    "from Levenshtein import distance\n",
    "from scipy.spatial.distance import pdist, squareform\n",
    "import Bio\n",
    "#import Bio.Align as Align\n",
    "#from Bio.Align import substitution_matrices\n",
    "#aligner = Align.PairwiseAligner()\n",
    "#aligner.substitution_matrix = substitution_matrices.load(\"BLOSUM45\")\n",
    "%matplotlib inline\n",
    "from Bio.SubsMat import MatrixInfo as matlist\n",
    "import itertools\n",
    "from scipy import stats\n",
    "import matplotlib.ticker as plticker\n",
    "\n",
    "\n"
   ]
  },
  {
   "cell_type": "markdown",
   "id": "2452392e",
   "metadata": {},
   "source": [
    "## create a blosum where all the values are positive "
   ]
  },
  {
   "cell_type": "code",
   "execution_count": 3,
   "id": "95518b9f",
   "metadata": {},
   "outputs": [],
   "source": [
    "matrix = matlist.blosum30 #import blosum 30 matrix\n",
    "for key in matrix:\n",
    "    a, b = key\n",
    "    if a == b: # if it's the same AA give the value -99\n",
    "        matrix[key] = -99\n",
    "\n",
    "\n",
    "# how the data is distributed\n",
    "hist = {}\n",
    "for key in matrix:\n",
    "    val = matrix[key]\n",
    "    hist[val] = hist.get(val, 0) + 1\n",
    "\n",
    "hist_series = pd.Series(hist)\n",
    "hist_series = hist_series.sort_index()\n",
    "\n",
    "# Change to all positive scale\n",
    "max_val = max(hist_series.index)\n",
    "\n",
    "new_matrix = {} # a dictionary where there is each subsitition for aa combinations\n",
    "for key in matrix:\n",
    "    val = matrix[key]\n",
    "    a, b = key\n",
    "    if a == b:\n",
    "        new_matrix[key] = 0\n",
    "    else:\n",
    "        new_matrix[key] = max_val+1 - val # the most similar substitution will get score 1"
   ]
  },
  {
   "cell_type": "code",
   "execution_count": 4,
   "id": "9ba5e39b",
   "metadata": {},
   "outputs": [],
   "source": [
    "def dis_blossom(seqa,seqb,score_dict):\n",
    "    \"\"\"\n",
    "    compare and return blossom distance score between to same length sequences\n",
    "    :param seqa:\n",
    "    :param seqb:\n",
    "    :param score_dict:a dictionary with the substitions score calaulated earlier\n",
    "    :return:Blossom distance\n",
    "    \"\"\"\n",
    "    blossom_score=0\n",
    "    for i in range(len(seqa)):\n",
    "        if seqa[i]==None:\n",
    "            print(\"check for problem in {}\".format(seqa))\n",
    "        if seqb[i]==None:\n",
    "            print(\"check for problem in {}\".format(seqb))            \n",
    "        substitution =(seqa[i],seqb[i])\n",
    "        if substitution not in score_dict:\n",
    "            substitution=(seqb[i],seqa[i]) #check the oposite key score(the order doesn't affect the score)\n",
    "        blossom_score+=score_dict[substitution]\n",
    "    return blossom_score"
   ]
  },
  {
   "cell_type": "code",
   "execution_count": 12,
   "id": "f3a51725",
   "metadata": {},
   "outputs": [],
   "source": [
    "def distance_map(df, title,mode,pep_number=False,random_sampling=False,save_fig=False,xlabel=None,ylabel=None):\n",
    "    \"\"\"\n",
    "    \n",
    "                    \n",
    "    :param df: given df\n",
    "    :param pep_number: the number of peptide for the ramdom sampling\n",
    "    :param :mode : the relevent distance function\n",
    "    :return: return it's peptide accepted hamming distance map sd a df and it's hamming distance\"\"\"\n",
    "    if isinstance(df, pd.DataFrame):\n",
    "        if \"probabilty_res_MCMC\" in df.columns: #relevant only for simulation outputs\n",
    "            df = df.loc[df['probabilty_res_MCMC'] == \"True\"].copy()\n",
    "            df = df.drop_duplicates(subset=\"Peptide\", keep='first', inplace=False)\n",
    "        if \"Peptide\" in df.columns:\n",
    "            df.set_index(\"Peptide\",inplace=True)    \n",
    "        peptide_list = df.index.tolist()\n",
    "    else:\n",
    "        df=peptide_list\n",
    "    if random_sampling:\n",
    "        peptide_list= sample(peptide_list, pep_number) #creates hamming map for sampled data in selected pep number length\n",
    "    if pep_number:\n",
    "        peptide_list=peptide_list[:pep_number]\n",
    "    transformed_strings = np.array(peptide_list).reshape(-1,1) #transform the list into np array \n",
    "        \n",
    "    if mode==\"hamming\" :\n",
    "        distance_matrix = pdist(transformed_strings,lambda x,y: distance(x[0],y[0])) # distances vector\n",
    "    elif mode==\"Blossom\":\n",
    "        distance_matrix = pdist(transformed_strings,lambda x,y: dis_blossom(x[0],y[0],new_matrix)) # distances vector\n",
    "    squared_matrix_np=squareform(distance_matrix)\n",
    "    plt.figure(figsize=(50,50))\n",
    "    squared_matrix_pd = pd.DataFrame(data=squared_matrix_np, index=peptide_list, columns=peptide_list)\n",
    "    heatmap = sns.heatmap(squared_matrix_pd,xticklabels=True, yticklabels=True)\n",
    "    heatmap.set_title('{mode} based heatmap {title}'.format(mode=mode,title=title),fontsize=30)\n",
    "    heatmap.set_xlabel(xlabel)\n",
    "    heatmap.set_ylabel(ylabel)\n",
    "    heatmap.yaxis.label.set_size(fontsize=35)\n",
    "    heatmap.xaxis.label.set_size(fontsize=35)\n",
    "    cax = plt.gcf().axes[-1]\n",
    "    cax.tick_params(labelsize=50)\n",
    "    sns.set(font_scale = 1.6)\n",
    "\n",
    "    if save_fig:\n",
    "        plt.gcf().savefig('{mode} based heatmap {title}'.format(mode=mode,title=title),dpi=200 ,bbox_inches='tight')\n",
    "    return squared_matrix_pd\n"
   ]
  },
  {
   "cell_type": "code",
   "execution_count": 6,
   "id": "daa524cb",
   "metadata": {},
   "outputs": [],
   "source": [
    "def distance_distribution(df,title):\n",
    "    \"\"\"get hamming or blosum df and return the distances distributions\"\"\"\n",
    "    x=np.triu(df)\n",
    "    vals=x.flatten()\n",
    "    vals=list(vals)\n",
    "    filtered=list(filter(lambda a: a != 0, vals))\n",
    "    filtered.sort()\n",
    "    plt.clf()\n",
    "    ax=sns.countplot(x=filtered)\n",
    "    for rect in ax.patches:\n",
    "        height = rect.get_height()\n",
    "       # print(height)\n",
    "        ax.annotate(f'{int(height)}', xy=(rect.get_x() + rect.get_width() / 2, height),\n",
    "                    xytext=(0, 5), textcoords='offset points', ha='center', va='bottom')\n",
    "    plt.gcf().savefig(\"Hamming histogram {}\".format(title), dpi=100)\n"
   ]
  },
  {
   "cell_type": "markdown",
   "id": "35853d25",
   "metadata": {},
   "source": [
    "# outout example"
   ]
  },
  {
   "cell_type": "code",
   "execution_count": 17,
   "id": "df848448",
   "metadata": {},
   "outputs": [],
   "source": [
    "df=pd.read_csv(\"/home/perr/Desktop/sim/project_elinor/output/1000 - strict updated feb working/18.csv\",low_memory=False)"
   ]
  },
  {
   "cell_type": "code",
   "execution_count": 20,
   "id": "b189af62",
   "metadata": {},
   "outputs": [
    {
     "ename": "TypeError",
     "evalue": "'DataFrame' object is not callable",
     "output_type": "error",
     "traceback": [
      "\u001b[0;31m---------------------------------------------------------------------------\u001b[0m",
      "\u001b[0;31mTypeError\u001b[0m                                 Traceback (most recent call last)",
      "\u001b[0;32m/tmp/ipykernel_5254/1218894980.py\u001b[0m in \u001b[0;36m<module>\u001b[0;34m\u001b[0m\n\u001b[0;32m----> 1\u001b[0;31m \u001b[0mx\u001b[0m\u001b[0;34m=\u001b[0m\u001b[0mdistance_map\u001b[0m\u001b[0;34m(\u001b[0m\u001b[0mdf\u001b[0m\u001b[0;34m,\u001b[0m \u001b[0;34m\"blosum 100 first peps\"\u001b[0m\u001b[0;34m,\u001b[0m\u001b[0;34m\"Blossom\"\u001b[0m\u001b[0;34m,\u001b[0m\u001b[0mpep_number\u001b[0m\u001b[0;34m=\u001b[0m\u001b[0;36m100\u001b[0m\u001b[0;34m,\u001b[0m\u001b[0mrandom_sampling\u001b[0m\u001b[0;34m=\u001b[0m\u001b[0;32mFalse\u001b[0m\u001b[0;34m,\u001b[0m\u001b[0msave_fig\u001b[0m\u001b[0;34m=\u001b[0m\u001b[0;32mFalse\u001b[0m\u001b[0;34m,\u001b[0m\u001b[0mxlabel\u001b[0m\u001b[0;34m=\u001b[0m\u001b[0;32mNone\u001b[0m\u001b[0;34m,\u001b[0m\u001b[0mylabel\u001b[0m\u001b[0;34m=\u001b[0m\u001b[0;32mNone\u001b[0m\u001b[0;34m)\u001b[0m\u001b[0;34m\u001b[0m\u001b[0;34m\u001b[0m\u001b[0m\n\u001b[0m\u001b[1;32m      2\u001b[0m \u001b[0;31m#distance_distribution(distancemap,\"Blosum\")\u001b[0m\u001b[0;34m\u001b[0m\u001b[0;34m\u001b[0m\u001b[0;34m\u001b[0m\u001b[0m\n",
      "\u001b[0;31mTypeError\u001b[0m: 'DataFrame' object is not callable"
     ]
    }
   ],
   "source": [
    "x=distance_map(distancemap, \"blosum 100 first peps\",\"Blossom\",pep_number=100,random_sampling=False,save_fig=False,xlabel=None,ylabel=None)\n",
    "distance_distribution(distancemap,\"Blosum\")"
   ]
  },
  {
   "cell_type": "code",
   "execution_count": null,
   "id": "eb31ae7d",
   "metadata": {},
   "outputs": [],
   "source": []
  }
 ],
 "metadata": {
  "kernelspec": {
   "display_name": "Python 3 (ipykernel)",
   "language": "python",
   "name": "python3"
  },
  "language_info": {
   "codemirror_mode": {
    "name": "ipython",
    "version": 3
   },
   "file_extension": ".py",
   "mimetype": "text/x-python",
   "name": "python",
   "nbconvert_exporter": "python",
   "pygments_lexer": "ipython3",
   "version": "3.9.5"
  }
 },
 "nbformat": 4,
 "nbformat_minor": 5
}
